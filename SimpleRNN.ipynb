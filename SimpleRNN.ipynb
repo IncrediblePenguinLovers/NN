{
  "nbformat": 4,
  "nbformat_minor": 0,
  "metadata": {
    "colab": {
      "provenance": [],
      "authorship_tag": "ABX9TyMW1Ow20M0IRmi9yRO1t19I"
    },
    "kernelspec": {
      "name": "python3",
      "display_name": "Python 3"
    },
    "language_info": {
      "name": "python"
    }
  },
  "cells": [
    {
      "cell_type": "markdown",
      "source": [
        "## Pytorch"
      ],
      "metadata": {
        "id": "rrvFYoFa7-0V"
      }
    },
    {
      "cell_type": "code",
      "execution_count": null,
      "metadata": {
        "colab": {
          "base_uri": "https://localhost:8080/"
        },
        "id": "xQZYgOlA7U-3",
        "outputId": "64d14019-23cd-42a7-fca9-b561e44d0845"
      },
      "outputs": [
        {
          "output_type": "stream",
          "name": "stdout",
          "text": [
            "출력 텐서 크기: torch.Size([32, 10, 3])\n",
            "은닉 상태 크기: torch.Size([1, 32, 64])\n"
          ]
        }
      ],
      "source": [
        "import torch\n",
        "import torch.nn as nn\n",
        "\n",
        "class SimpleRNN(nn.Module):\n",
        "    def __init__(self, input_size, hidden_size, output_size):\n",
        "        \"\"\"\n",
        "        간단한 RNN 모델 구현\n",
        "        Args:\n",
        "            input_size: 입력 특성의 크기\n",
        "            hidden_size: 은닉 상태의 크기\n",
        "            output_size: 출력의 크기\n",
        "        \"\"\"\n",
        "        super(SimpleRNN, self).__init__()\n",
        "\n",
        "        self.hidden_size = hidden_size\n",
        "\n",
        "        # RNN 층\n",
        "        self.rnn = nn.RNN(\n",
        "            input_size=input_size,\n",
        "            hidden_size=hidden_size,\n",
        "            num_layers=1,\n",
        "            batch_first=True\n",
        "        )\n",
        "\n",
        "        # 출력 층\n",
        "        self.fc = nn.Linear(hidden_size, output_size)\n",
        "\n",
        "    def forward(self, x, hidden=None):\n",
        "        \"\"\"\n",
        "        순전파\n",
        "        Args:\n",
        "            x: 입력 텐서, shape: (batch_size, sequence_length, input_size)\n",
        "            hidden: 초기 은닉 상태 (선택사항)\n",
        "        \"\"\"\n",
        "        # 초기 은닉 상태가 없으면 0으로 초기화\n",
        "        if hidden is None:\n",
        "            hidden = torch.zeros(1, x.size(0), self.hidden_size).to(x.device)\n",
        "\n",
        "        # RNN 층을 통과\n",
        "        output, hidden = self.rnn(x, hidden)\n",
        "\n",
        "        # 모든 시점의 출력값을 전결합층에 통과\n",
        "        output = self.fc(output)\n",
        "\n",
        "        return output, hidden\n",
        "\n",
        "# 모델 사용 예시\n",
        "def example_usage():\n",
        "    # 하이퍼파라미터 설정\n",
        "    batch_size = 32\n",
        "    sequence_length = 10\n",
        "    input_size = 5\n",
        "    hidden_size = 64\n",
        "    output_size = 3\n",
        "\n",
        "    # 모델 인스턴스 생성\n",
        "    model = SimpleRNN(input_size, hidden_size, output_size)\n",
        "\n",
        "    # 샘플 입력 데이터 생성\n",
        "    x = torch.randn(batch_size, sequence_length, input_size)\n",
        "\n",
        "    # 모델 실행\n",
        "    output, hidden = model(x)\n",
        "\n",
        "    # 출력 크기 확인\n",
        "    print(f\"출력 텐서 크기: {output.shape}\")  # [batch_size, sequence_length, output_size]\n",
        "    print(f\"은닉 상태 크기: {hidden.shape}\")  # [1, batch_size, hidden_size]\n",
        "\n",
        "if __name__ == \"__main__\":\n",
        "    example_usage()"
      ]
    },
    {
      "cell_type": "markdown",
      "source": [
        "## Tensorflow"
      ],
      "metadata": {
        "id": "GQx6q_JB8EE9"
      }
    },
    {
      "cell_type": "code",
      "source": [
        "import tensorflow as tf\n",
        "from tensorflow.keras.layers import Input, SimpleRNN, Dense\n",
        "from tensorflow.keras.models import Model\n",
        "import numpy as np\n",
        "\n",
        "def create_rnn_model(input_shape, hidden_units, output_units):\n",
        "    \"\"\"\n",
        "    기본적인 RNN 모델 생성\n",
        "\n",
        "    Args:\n",
        "        input_shape: 입력 형태 (sequence_length, input_dim)\n",
        "        hidden_units: RNN 은닉층의 유닛 수\n",
        "        output_units: 출력층의 유닛 수\n",
        "\n",
        "    Returns:\n",
        "        컴파일된 Keras 모델\n",
        "    \"\"\"\n",
        "    # 입력층 정의\n",
        "    inputs = Input(shape=input_shape)\n",
        "\n",
        "    # RNN 층 추가\n",
        "    rnn_out = SimpleRNN(\n",
        "        units=hidden_units,\n",
        "        activation='relu',\n",
        "        return_sequences=True\n",
        "    )(inputs)\n",
        "\n",
        "    # 출력층 추가\n",
        "    outputs = Dense(units=output_units, activation='linear')(rnn_out)\n",
        "\n",
        "    # 모델 생성\n",
        "    model = Model(inputs=inputs, outputs=outputs)\n",
        "\n",
        "    # 모델 컴파일\n",
        "    model.compile(\n",
        "        optimizer='nadam',\n",
        "        loss='mse',\n",
        "        metrics=['mae']\n",
        "    )\n",
        "\n",
        "    return model\n",
        "\n",
        "# 학습을 위한 샘플 데이터 생성 함수\n",
        "def generate_sample_data(num_samples, sequence_length, input_dim, output_dim):\n",
        "    \"\"\"\n",
        "    테스트를 위한 샘플 시계열 데이터 생성\n",
        "    \"\"\"\n",
        "    X = np.random.randn(num_samples, sequence_length, input_dim)\n",
        "    y = np.random.randn(num_samples, sequence_length, output_dim)\n",
        "    return X, y\n",
        "\n",
        "def main():\n",
        "    # 모델 파라미터 설정\n",
        "    sequence_length = 10  # 시퀀스 길이\n",
        "    input_dim = 5        # 입력 차원\n",
        "    hidden_units = 64    # RNN 은닉층 유닛 수\n",
        "    output_dim = 3       # 출력 차원\n",
        "\n",
        "    # 모델 생성\n",
        "    model = create_rnn_model(\n",
        "        input_shape=(sequence_length, input_dim),\n",
        "        hidden_units=hidden_units,\n",
        "        output_units=output_dim\n",
        "    )\n",
        "\n",
        "    # 모델 구조 출력\n",
        "    model.summary()\n",
        "\n",
        "    # 샘플 데이터 생성\n",
        "    num_samples = 1000\n",
        "    X_train, y_train = generate_sample_data(\n",
        "        num_samples=num_samples,\n",
        "        sequence_length=sequence_length,\n",
        "        input_dim=input_dim,\n",
        "        output_dim=output_dim\n",
        "    )\n",
        "\n",
        "    # 모델 학습\n",
        "    history = model.fit(\n",
        "        X_train,\n",
        "        y_train,\n",
        "        epochs=10,\n",
        "        batch_size=32,\n",
        "        validation_split=0.2,\n",
        "        verbose=1\n",
        "    )\n",
        "\n",
        "    return model, history\n",
        "\n",
        "if __name__ == \"__main__\":\n",
        "    model, history = main()"
      ],
      "metadata": {
        "colab": {
          "base_uri": "https://localhost:8080/",
          "height": 596
        },
        "id": "Cq4iWb-78FnH",
        "outputId": "f3028936-1d99-4a16-bd72-a2861d42c3d3"
      },
      "execution_count": null,
      "outputs": [
        {
          "output_type": "display_data",
          "data": {
            "text/plain": [
              "\u001b[1mModel: \"functional_2\"\u001b[0m\n"
            ],
            "text/html": [
              "<pre style=\"white-space:pre;overflow-x:auto;line-height:normal;font-family:Menlo,'DejaVu Sans Mono',consolas,'Courier New',monospace\"><span style=\"font-weight: bold\">Model: \"functional_2\"</span>\n",
              "</pre>\n"
            ]
          },
          "metadata": {}
        },
        {
          "output_type": "display_data",
          "data": {
            "text/plain": [
              "┏━━━━━━━━━━━━━━━━━━━━━━━━━━━━━━━━━━━━━━┳━━━━━━━━━━━━━━━━━━━━━━━━━━━━━┳━━━━━━━━━━━━━━━━━┓\n",
              "┃\u001b[1m \u001b[0m\u001b[1mLayer (type)                        \u001b[0m\u001b[1m \u001b[0m┃\u001b[1m \u001b[0m\u001b[1mOutput Shape               \u001b[0m\u001b[1m \u001b[0m┃\u001b[1m \u001b[0m\u001b[1m        Param #\u001b[0m\u001b[1m \u001b[0m┃\n",
              "┡━━━━━━━━━━━━━━━━━━━━━━━━━━━━━━━━━━━━━━╇━━━━━━━━━━━━━━━━━━━━━━━━━━━━━╇━━━━━━━━━━━━━━━━━┩\n",
              "│ input_layer_2 (\u001b[38;5;33mInputLayer\u001b[0m)           │ (\u001b[38;5;45mNone\u001b[0m, \u001b[38;5;34m10\u001b[0m, \u001b[38;5;34m5\u001b[0m)               │               \u001b[38;5;34m0\u001b[0m │\n",
              "├──────────────────────────────────────┼─────────────────────────────┼─────────────────┤\n",
              "│ simple_rnn_2 (\u001b[38;5;33mSimpleRNN\u001b[0m)             │ (\u001b[38;5;45mNone\u001b[0m, \u001b[38;5;34m10\u001b[0m, \u001b[38;5;34m64\u001b[0m)              │           \u001b[38;5;34m4,480\u001b[0m │\n",
              "├──────────────────────────────────────┼─────────────────────────────┼─────────────────┤\n",
              "│ dense_2 (\u001b[38;5;33mDense\u001b[0m)                      │ (\u001b[38;5;45mNone\u001b[0m, \u001b[38;5;34m10\u001b[0m, \u001b[38;5;34m3\u001b[0m)               │             \u001b[38;5;34m195\u001b[0m │\n",
              "└──────────────────────────────────────┴─────────────────────────────┴─────────────────┘\n"
            ],
            "text/html": [
              "<pre style=\"white-space:pre;overflow-x:auto;line-height:normal;font-family:Menlo,'DejaVu Sans Mono',consolas,'Courier New',monospace\">┏━━━━━━━━━━━━━━━━━━━━━━━━━━━━━━━━━━━━━━┳━━━━━━━━━━━━━━━━━━━━━━━━━━━━━┳━━━━━━━━━━━━━━━━━┓\n",
              "┃<span style=\"font-weight: bold\"> Layer (type)                         </span>┃<span style=\"font-weight: bold\"> Output Shape                </span>┃<span style=\"font-weight: bold\">         Param # </span>┃\n",
              "┡━━━━━━━━━━━━━━━━━━━━━━━━━━━━━━━━━━━━━━╇━━━━━━━━━━━━━━━━━━━━━━━━━━━━━╇━━━━━━━━━━━━━━━━━┩\n",
              "│ input_layer_2 (<span style=\"color: #0087ff; text-decoration-color: #0087ff\">InputLayer</span>)           │ (<span style=\"color: #00d7ff; text-decoration-color: #00d7ff\">None</span>, <span style=\"color: #00af00; text-decoration-color: #00af00\">10</span>, <span style=\"color: #00af00; text-decoration-color: #00af00\">5</span>)               │               <span style=\"color: #00af00; text-decoration-color: #00af00\">0</span> │\n",
              "├──────────────────────────────────────┼─────────────────────────────┼─────────────────┤\n",
              "│ simple_rnn_2 (<span style=\"color: #0087ff; text-decoration-color: #0087ff\">SimpleRNN</span>)             │ (<span style=\"color: #00d7ff; text-decoration-color: #00d7ff\">None</span>, <span style=\"color: #00af00; text-decoration-color: #00af00\">10</span>, <span style=\"color: #00af00; text-decoration-color: #00af00\">64</span>)              │           <span style=\"color: #00af00; text-decoration-color: #00af00\">4,480</span> │\n",
              "├──────────────────────────────────────┼─────────────────────────────┼─────────────────┤\n",
              "│ dense_2 (<span style=\"color: #0087ff; text-decoration-color: #0087ff\">Dense</span>)                      │ (<span style=\"color: #00d7ff; text-decoration-color: #00d7ff\">None</span>, <span style=\"color: #00af00; text-decoration-color: #00af00\">10</span>, <span style=\"color: #00af00; text-decoration-color: #00af00\">3</span>)               │             <span style=\"color: #00af00; text-decoration-color: #00af00\">195</span> │\n",
              "└──────────────────────────────────────┴─────────────────────────────┴─────────────────┘\n",
              "</pre>\n"
            ]
          },
          "metadata": {}
        },
        {
          "output_type": "display_data",
          "data": {
            "text/plain": [
              "\u001b[1m Total params: \u001b[0m\u001b[38;5;34m4,675\u001b[0m (18.26 KB)\n"
            ],
            "text/html": [
              "<pre style=\"white-space:pre;overflow-x:auto;line-height:normal;font-family:Menlo,'DejaVu Sans Mono',consolas,'Courier New',monospace\"><span style=\"font-weight: bold\"> Total params: </span><span style=\"color: #00af00; text-decoration-color: #00af00\">4,675</span> (18.26 KB)\n",
              "</pre>\n"
            ]
          },
          "metadata": {}
        },
        {
          "output_type": "display_data",
          "data": {
            "text/plain": [
              "\u001b[1m Trainable params: \u001b[0m\u001b[38;5;34m4,675\u001b[0m (18.26 KB)\n"
            ],
            "text/html": [
              "<pre style=\"white-space:pre;overflow-x:auto;line-height:normal;font-family:Menlo,'DejaVu Sans Mono',consolas,'Courier New',monospace\"><span style=\"font-weight: bold\"> Trainable params: </span><span style=\"color: #00af00; text-decoration-color: #00af00\">4,675</span> (18.26 KB)\n",
              "</pre>\n"
            ]
          },
          "metadata": {}
        },
        {
          "output_type": "display_data",
          "data": {
            "text/plain": [
              "\u001b[1m Non-trainable params: \u001b[0m\u001b[38;5;34m0\u001b[0m (0.00 B)\n"
            ],
            "text/html": [
              "<pre style=\"white-space:pre;overflow-x:auto;line-height:normal;font-family:Menlo,'DejaVu Sans Mono',consolas,'Courier New',monospace\"><span style=\"font-weight: bold\"> Non-trainable params: </span><span style=\"color: #00af00; text-decoration-color: #00af00\">0</span> (0.00 B)\n",
              "</pre>\n"
            ]
          },
          "metadata": {}
        },
        {
          "output_type": "stream",
          "name": "stdout",
          "text": [
            "Epoch 1/10\n",
            "\u001b[1m25/25\u001b[0m \u001b[32m━━━━━━━━━━━━━━━━━━━━\u001b[0m\u001b[37m\u001b[0m \u001b[1m2s\u001b[0m 15ms/step - loss: 1.1328 - mae: 0.8432 - val_loss: 1.0556 - val_mae: 0.8211\n",
            "Epoch 2/10\n",
            "\u001b[1m25/25\u001b[0m \u001b[32m━━━━━━━━━━━━━━━━━━━━\u001b[0m\u001b[37m\u001b[0m \u001b[1m0s\u001b[0m 6ms/step - loss: 1.0314 - mae: 0.8076 - val_loss: 1.0373 - val_mae: 0.8135\n",
            "Epoch 3/10\n",
            "\u001b[1m25/25\u001b[0m \u001b[32m━━━━━━━━━━━━━━━━━━━━\u001b[0m\u001b[37m\u001b[0m \u001b[1m0s\u001b[0m 5ms/step - loss: 1.0022 - mae: 0.7959 - val_loss: 1.0323 - val_mae: 0.8116\n",
            "Epoch 4/10\n",
            "\u001b[1m25/25\u001b[0m \u001b[32m━━━━━━━━━━━━━━━━━━━━\u001b[0m\u001b[37m\u001b[0m \u001b[1m0s\u001b[0m 5ms/step - loss: 1.0138 - mae: 0.7991 - val_loss: 1.0291 - val_mae: 0.8099\n",
            "Epoch 5/10\n",
            "\u001b[1m25/25\u001b[0m \u001b[32m━━━━━━━━━━━━━━━━━━━━\u001b[0m\u001b[37m\u001b[0m \u001b[1m0s\u001b[0m 5ms/step - loss: 0.9840 - mae: 0.7878 - val_loss: 1.0274 - val_mae: 0.8093\n",
            "Epoch 6/10\n",
            "\u001b[1m25/25\u001b[0m \u001b[32m━━━━━━━━━━━━━━━━━━━━\u001b[0m\u001b[37m\u001b[0m \u001b[1m0s\u001b[0m 5ms/step - loss: 1.0031 - mae: 0.7978 - val_loss: 1.0258 - val_mae: 0.8086\n",
            "Epoch 7/10\n",
            "\u001b[1m25/25\u001b[0m \u001b[32m━━━━━━━━━━━━━━━━━━━━\u001b[0m\u001b[37m\u001b[0m \u001b[1m0s\u001b[0m 5ms/step - loss: 0.9923 - mae: 0.7917 - val_loss: 1.0244 - val_mae: 0.8080\n",
            "Epoch 8/10\n",
            "\u001b[1m25/25\u001b[0m \u001b[32m━━━━━━━━━━━━━━━━━━━━\u001b[0m\u001b[37m\u001b[0m \u001b[1m0s\u001b[0m 6ms/step - loss: 0.9857 - mae: 0.7912 - val_loss: 1.0244 - val_mae: 0.8081\n",
            "Epoch 9/10\n",
            "\u001b[1m25/25\u001b[0m \u001b[32m━━━━━━━━━━━━━━━━━━━━\u001b[0m\u001b[37m\u001b[0m \u001b[1m0s\u001b[0m 5ms/step - loss: 0.9923 - mae: 0.7921 - val_loss: 1.0239 - val_mae: 0.8081\n",
            "Epoch 10/10\n",
            "\u001b[1m25/25\u001b[0m \u001b[32m━━━━━━━━━━━━━━━━━━━━\u001b[0m\u001b[37m\u001b[0m \u001b[1m0s\u001b[0m 5ms/step - loss: 0.9811 - mae: 0.7888 - val_loss: 1.0235 - val_mae: 0.8075\n"
          ]
        }
      ]
    },
    {
      "cell_type": "code",
      "source": [],
      "metadata": {
        "id": "M_bQJqA98IR8"
      },
      "execution_count": null,
      "outputs": []
    }
  ]
}